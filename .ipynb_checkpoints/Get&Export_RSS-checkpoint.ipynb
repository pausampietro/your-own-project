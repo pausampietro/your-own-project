{
 "cells": [
  {
   "cell_type": "code",
   "execution_count": 1,
   "metadata": {},
   "outputs": [],
   "source": [
    "import requests\n",
    "from bs4 import BeautifulSoup\n",
    "import pandas as pd\n",
    "import pymysql\n",
    "from sqlalchemy import create_engine"
   ]
  },
  {
   "cell_type": "markdown",
   "metadata": {},
   "source": [
    "### Conection to google cloud Database (to export news dataframes)"
   ]
  },
  {
   "cell_type": "code",
   "execution_count": 2,
   "metadata": {},
   "outputs": [],
   "source": [
    "driver = 'mysql+pymysql'\n",
    "ip = ''\n",
    "username = ''\n",
    "password = ''\n",
    "db = ''\n",
    "\n",
    "cs  = f'{driver}://{username}:{password}@{ip}/{db}'\n",
    "engine = create_engine(cs)"
   ]
  },
  {
   "cell_type": "markdown",
   "metadata": {},
   "source": [
    "### Scraping RSS news from media"
   ]
  },
  {
   "cell_type": "code",
   "execution_count": 3,
   "metadata": {},
   "outputs": [],
   "source": [
    "# list of every source of RSS \n",
    "\n",
    "# 'https://www.lavanguardia.com/mvc/feed/rss/home'\n",
    "# 'https://www.elperiodico.com/es/rss/rss_portada.xml'\n",
    "# 'https://www.ara.cat/rss/'\n",
    "# 'https://e00-elmundo.uecdn.es/elmundo/rss/portada.xml'\n",
    "# 'http://ep00.epimg.net/rss/tags/ultimas_noticias.xml'"
   ]
  },
  {
   "cell_type": "markdown",
   "metadata": {},
   "source": [
    "#### Generate series & dataframe with content (La Vanguardia)"
   ]
  },
  {
   "cell_type": "code",
   "execution_count": 4,
   "metadata": {},
   "outputs": [
    {
     "name": "stdout",
     "output_type": "stream",
     "text": [
      "https://www.lavanguardia.com/mvc/feed/rss/home  start\n",
      "https://www.lavanguardia.com/mvc/feed/rss/home  end\n"
     ]
    }
   ],
   "source": [
    "url = 'https://www.lavanguardia.com/mvc/feed/rss/home'    \n",
    "\n",
    "print(url, ' start')\n",
    "\n",
    "# getting content\n",
    "html = requests.get(url).content\n",
    "soup = BeautifulSoup(html, \"xml\")\n",
    "items = soup.find_all('item')\n",
    "\n",
    "# generating series with all the news from the RSS source\n",
    "title = pd.Series([item.title.text for item in items])\n",
    "description = pd.Series([item.description.text for item in items])\n",
    "pubdate = pd.Series([item.pubDate.text for item in items])\n",
    "category = pd.Series([item.category.text for item in items])\n",
    "link = pd.Series(item.link.text.split('https://')[1] for item in items)\n",
    "media = pd.Series([url.split('www.')[1].split('.')[0] for item in items])\n",
    "\n",
    "# generating the DF\n",
    "rss = pd.DataFrame({'title': title, 'description': description, 'pubdate': pubdate,'category': category, 'link': link, 'media': media})\n",
    "\n",
    "# exporting to Database in google cloud\n",
    "rss.to_sql(con=engine, name='rss', if_exists='append')\n",
    "\n",
    "print(url, ' end')"
   ]
  },
  {
   "cell_type": "markdown",
   "metadata": {},
   "source": [
    "#### Generate series & dataframe with content (El periodico)"
   ]
  },
  {
   "cell_type": "code",
   "execution_count": 5,
   "metadata": {},
   "outputs": [
    {
     "name": "stdout",
     "output_type": "stream",
     "text": [
      "https://www.elperiodico.com/es/rss/rss_portada.xml  start\n",
      "https://www.elperiodico.com/es/rss/rss_portada.xml  end\n"
     ]
    }
   ],
   "source": [
    "url = 'https://www.elperiodico.com/es/rss/rss_portada.xml'    \n",
    "\n",
    "print(url, ' start')\n",
    "\n",
    "# getting content\n",
    "html = requests.get(url).content\n",
    "soup = BeautifulSoup(html, \"xml\")\n",
    "items = soup.find_all('item')\n",
    "\n",
    "# generating series with all the news from the RSS source\n",
    "title = pd.Series([item.title.text for item in items])\n",
    "description = pd.Series(['' for item in items])\n",
    "pubdate = pd.Series([item.pubDate.text for item in items])\n",
    "category = pd.Series(['' for item in items])\n",
    "link = pd.Series(item.link.text.split('https://')[1] for item in items)\n",
    "media = pd.Series([url.split('www.')[1].split('.')[0] for item in items])\n",
    "\n",
    "# generating the DF\n",
    "rss = pd.DataFrame({'title': title, 'description': description, 'pubdate': pubdate,'category': category, 'link': link, 'media': media})\n",
    "\n",
    "# exporting to Database in google cloud\n",
    "rss.to_sql(con=engine, name='rss', if_exists='append')\n",
    "\n",
    "print(url, ' end')"
   ]
  },
  {
   "cell_type": "markdown",
   "metadata": {},
   "source": [
    "#### Generate series & dataframe with content (Diari ARA)"
   ]
  },
  {
   "cell_type": "code",
   "execution_count": 6,
   "metadata": {},
   "outputs": [
    {
     "name": "stdout",
     "output_type": "stream",
     "text": [
      "https://www.ara.cat/rss/  start\n",
      "https://www.ara.cat/rss/  end\n"
     ]
    }
   ],
   "source": [
    "url = 'https://www.ara.cat/rss/'    \n",
    "\n",
    "print(url, ' start')\n",
    "\n",
    "# getting content\n",
    "html = requests.get(url).content\n",
    "soup = BeautifulSoup(html, \"xml\")\n",
    "items = soup.find_all('item')\n",
    "\n",
    "# generating series with all the news from the RSS source\n",
    "title = pd.Series([item.title.text for item in items])\n",
    "description = pd.Series(['' for item in items])\n",
    "pubdate = pd.Series([item.pubDate.text for item in items])\n",
    "category = pd.Series(['' for item in items])\n",
    "link = pd.Series(item.link.text.split('https://')[1] for item in items)\n",
    "media = pd.Series([url.split('www.')[1].split('.')[0] for item in items])\n",
    "\n",
    "# generating the DF\n",
    "rss = pd.DataFrame({'title': title, 'description': description, 'pubdate': pubdate,'category': category, 'link': link, 'media': media})\n",
    "\n",
    "# exporting to Database in google cloud\n",
    "rss.to_sql(con=engine, name='rss', if_exists='append')\n",
    "\n",
    "print(url, ' end')"
   ]
  },
  {
   "cell_type": "markdown",
   "metadata": {},
   "source": [
    "#### Generate series & dataframe with content (El Mundo)"
   ]
  },
  {
   "cell_type": "code",
   "execution_count": 7,
   "metadata": {},
   "outputs": [
    {
     "name": "stdout",
     "output_type": "stream",
     "text": [
      "https://e00-elmundo.uecdn.es/elmundo/rss/portada.xml  start\n",
      "https://e00-elmundo.uecdn.es/elmundo/rss/portada.xml  end\n"
     ]
    }
   ],
   "source": [
    "url = 'https://e00-elmundo.uecdn.es/elmundo/rss/portada.xml'\n",
    "\n",
    "print(url, ' start')\n",
    "\n",
    "# getting content\n",
    "html = requests.get(url).content\n",
    "soup = BeautifulSoup(html, \"xml\")\n",
    "items = soup.find_all('item')\n",
    "\n",
    "# generating series with all the news from the RSS source\n",
    "title = pd.Series([item.title.text for item in items])\n",
    "description = pd.Series(['' for item in items])\n",
    "pubdate = pd.Series([item.pubDate.text for item in items])\n",
    "category = pd.Series(['' for item in items])\n",
    "link = pd.Series(item.link.text.split('https://')[1].split('?')[0] for item in items)\n",
    "media = pd.Series([item.link.text.split('www.')[1].split('.')[0] for item in items])\n",
    "\n",
    "# generating the DF\n",
    "rss = pd.DataFrame({'title': title, 'description': description, 'pubdate': pubdate,'category': category, 'link': link, 'media': media})\n",
    "\n",
    "# exporting to Database in google cloud\n",
    "rss.to_sql(con=engine, name='rss', if_exists='append')\n",
    "\n",
    "print(url, ' end')"
   ]
  },
  {
   "cell_type": "markdown",
   "metadata": {},
   "source": [
    "#### Generate series & dataframe with content (El Pais)"
   ]
  },
  {
   "cell_type": "code",
   "execution_count": 8,
   "metadata": {},
   "outputs": [
    {
     "name": "stdout",
     "output_type": "stream",
     "text": [
      "http://ep00.epimg.net/rss/tags/ultimas_noticias.xml  start\n",
      "http://ep00.epimg.net/rss/tags/ultimas_noticias.xml  end\n"
     ]
    }
   ],
   "source": [
    "url = 'http://ep00.epimg.net/rss/tags/ultimas_noticias.xml'\n",
    "\n",
    "print(url, ' start')\n",
    "\n",
    "# getting content\n",
    "html = requests.get(url).content\n",
    "soup = BeautifulSoup(html, \"xml\")\n",
    "items = soup.find_all('item')\n",
    "\n",
    "# generating series with all the news from the RSS source\n",
    "title = pd.Series([item.title.text for item in items])\n",
    "description = pd.Series([item.description.text for item in items])\n",
    "pubdate = pd.Series([item.pubDate.text for item in items])\n",
    "category = pd.Series(['' for item in items])\n",
    "link = pd.Series((item.link.text.split('https://')[1].split('html')[0] + 'html') for item in items)\n",
    "media = pd.Series([item.link.text.split('https://')[1].split('.')[0] for item in items])\n",
    "\n",
    "# generating the DF\n",
    "rss = pd.DataFrame({'title': title, 'description': description, 'pubdate': pubdate,'category': category, 'link': link, 'media': media})\n",
    "\n",
    "# exporting to Database in google cloud\n",
    "rss.to_sql(con=engine, name='rss', if_exists='append')\n",
    "\n",
    "print(url, ' end')"
   ]
  },
  {
   "cell_type": "code",
   "execution_count": null,
   "metadata": {},
   "outputs": [],
   "source": []
  },
  {
   "cell_type": "code",
   "execution_count": null,
   "metadata": {},
   "outputs": [],
   "source": []
  }
 ],
 "metadata": {
  "kernelspec": {
   "display_name": "Python 3",
   "language": "python",
   "name": "python3"
  },
  "language_info": {
   "codemirror_mode": {
    "name": "ipython",
    "version": 3
   },
   "file_extension": ".py",
   "mimetype": "text/x-python",
   "name": "python",
   "nbconvert_exporter": "python",
   "pygments_lexer": "ipython3",
   "version": "3.7.1"
  }
 },
 "nbformat": 4,
 "nbformat_minor": 2
}
